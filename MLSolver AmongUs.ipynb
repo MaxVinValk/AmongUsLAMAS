{
 "cells": [
  {
   "cell_type": "code",
   "execution_count": 185,
   "metadata": {},
   "outputs": [],
   "source": [
    "from mlsolver.kripke import World, KripkeStructure\n",
    "from graphviz import Digraph"
   ]
  },
  {
   "cell_type": "code",
   "execution_count": 2,
   "metadata": {},
   "outputs": [
    {
     "name": "stdout",
     "output_type": "stream",
     "text": [
      "(W = {(RRW,{'1:R': True, '2:R': True, '3:W': True})(RRR,{'1:R': True, '2:R': True, '3:R': True})(WRR,{'1:W': True, '2:R': True, '3:R': True})(WWR,{'1:W': True, '2:W': True, '3:R': True})(RWR,{'1:R': True, '2:W': True, '3:R': True})(WRW,{'1:W': True, '2:R': True, '3:W': True})}, R = {'1': {('RRW', 'WRW'), ('WRR', 'RRR'), ('RWR', 'WWR')}, '2': {('WRR', 'WWR'), ('RWR', 'RRR')}, '3': {('RRR', 'RRW'), ('WRW', 'WRR')}})\n"
     ]
    }
   ],
   "source": [
    "worlds = [\n",
    " World('RRW', {'1:R': True, '2:R': True, '3:W': True}),\n",
    " World('RRR', {'1:R': True, '2:R': True, '3:R': True}),\n",
    " World('WRR', {'1:W': True, '2:R': True, '3:R': True}),\n",
    "\n",
    "    World('WWR', {'1:W': True, '2:W': True, '3:R': True}),\n",
    " World('RWR', {'1:R': True, '2:W': True, '3:R': True}),\n",
    " World('WRW', {'1:W': True, '2:R': True, '3:W': True}),\n",
    "]\n",
    "\n",
    "relations = {\n",
    " '1': {('RRW', 'WRW'), ('RWR', 'WWR'), ('WRR', 'RRR')},\n",
    " '2': {('RWR', 'RRR'), ('WRR', 'WWR')},\n",
    " '3': {('RRR', 'RRW'), ('WRW', 'WRR')}\n",
    "}\n",
    "ks = KripkeStructure(worlds, relations)\n",
    "print(ks)"
   ]
  },
  {
   "cell_type": "code",
   "execution_count": 3,
   "metadata": {},
   "outputs": [],
   "source": [
    "from mlsolver.formula import Atom, Box, Or, Box_a, And, Not\n",
    "formula = Atom('1:R')\n",
    "model2 = ks.solve(formula)"
   ]
  },
  {
   "cell_type": "code",
   "execution_count": 4,
   "metadata": {},
   "outputs": [
    {
     "name": "stdout",
     "output_type": "stream",
     "text": [
      "(W = {(RRW,{'1:R': True, '2:R': True, '3:W': True})(RRR,{'1:R': True, '2:R': True, '3:R': True})(RWR,{'1:R': True, '2:W': True, '3:R': True})}, R = {'1': set(), '2': {('RWR', 'RRR')}, '3': {('RRR', 'RRW')}})\n"
     ]
    }
   ],
   "source": [
    "print(model2)"
   ]
  },
  {
   "cell_type": "code",
   "execution_count": 5,
   "metadata": {},
   "outputs": [
    {
     "name": "stdout",
     "output_type": "stream",
     "text": [
      "(W = {(RRW,{'1:R': True, '2:R': True, '3:W': True})(RRR,{'1:R': True, '2:R': True, '3:R': True})(WRR,{'1:W': True, '2:R': True, '3:R': True})(WWR,{'1:W': True, '2:W': True, '3:R': True})(RWR,{'1:R': True, '2:W': True, '3:R': True})(WRW,{'1:W': True, '2:R': True, '3:W': True})}, R = {'1': {('RRW', 'WRW'), ('WRR', 'RRR'), ('RWR', 'WWR')}, '2': {('WRR', 'WWR'), ('RWR', 'RRR')}, '3': {('RRR', 'RRW'), ('WRW', 'WRR')}})\n"
     ]
    }
   ],
   "source": [
    "print(ks)"
   ]
  },
  {
   "cell_type": "code",
   "execution_count": 224,
   "metadata": {},
   "outputs": [],
   "source": [
    "class AmongUs(object):\n",
    "    def __init__(self, num_agents, imposter):\n",
    "        self.worlds = []\n",
    "        self.relations = {}\n",
    "        \n",
    "\n",
    "        # Build the same number of worlds as there are agents. Each world has one imposter\n",
    "        for i in range(num_agents):\n",
    "            agent_is_imposter = {}\n",
    "            for j in range(num_agents):\n",
    "                if i == j:\n",
    "                    agent_is_imposter[\"IsImp:{}\".format(j)] = True\n",
    "                else:\n",
    "                    agent_is_imposter[\"IsImp:{}\".format(j)] = False\n",
    "\n",
    "            self.worlds.append(World(\"Imp{}\".format(i), agent_is_imposter))\n",
    "\n",
    "        # Build relations according to the following rules:\n",
    "        # Each agent knows whether they themselves are imposter or not\n",
    "        # This leads to crewmates not having accessibility to the worlds where they are imposter\n",
    "        # This leads to imposters only having a reflexive relation to themselves\n",
    "        for i in range(num_agents):\n",
    "            self.relations[str(i)] = set((\"Imp{}\".format(x),\"Imp{}\".format(y)) for x in range(num_agents) for y in range(num_agents) if ((i != x) and (i != y)))\n",
    "        #print(self.relations)\n",
    "        self.relations.update(add_symmetric_edges(self.relations))\n",
    "\n",
    "        self.kripke_structure = KripkeStructure(self.worlds, self.relations)\n",
    "        self.real_world = \"Imp{}\".format(imposter)\n",
    "    def suspects(self, observer, other):\n",
    "        \"\"\" Check if agent i suspects agent j of being the impostor\n",
    "        We do this by evaluating the sentence \"i knows not \"IsImp:j\" \n",
    "        \"\"\"\n",
    "        sentence = Not(Box_a(str(observer), Not(Atom(\"IsImp:{}\".format(other)))))\n",
    "        return sentence.semantic(self.kripke_structure, self.real_world)\n",
    "    def update_known_impostor(self, observer, impostor):\n",
    "        \"\"\"Update the model to register that a crewmate has caught the impostor\n",
    "        \"\"\"\n",
    "        sentence = Box_a(str(observer), Atom(\"IsImp:{}\".format(impostor)))\n",
    "        self.kripke_structure = kripke_structure_solve_a(self.kripke_structure, str(observer), sentence)\n",
    "    def update_known_crewmate(self, observer, crewmate):\n",
    "        \"\"\"Update the model to register that a crewmate no longer suspects another crewmate\n",
    "        (e.g. because of a visual task)\n",
    "        \"\"\"\n",
    "        sentence = Box_a(str(observer), Not(Atom(\"IsImp:{}\".format(crewmate))))\n",
    "        self.kripke_structure = kripke_structure_solve_a(self.kripke_structure, str(observer), sentence)\n",
    "    def plot(self):\n",
    "        dot = Digraph(comment='The Round Table')\n",
    "        dot.node('A', 'Test')\n",
    "        return dot"
   ]
  },
  {
   "cell_type": "code",
   "execution_count": 225,
   "metadata": {},
   "outputs": [],
   "source": [
    "def add_reflexive_edges(worlds, relations):\n",
    "    \"\"\"Routine adds reflexive edges to Kripke frame\n",
    "    \"\"\"\n",
    "    result = {}\n",
    "    for agent, agents_relations in relations.items():\n",
    "        result_agents = agents_relations.copy()\n",
    "        for world in worlds:\n",
    "            result_agents.add((world.name, world.name))\n",
    "            result[agent] = result_agents\n",
    "    return result\n",
    "\n",
    "def add_symmetric_edges(relations):\n",
    "    \"\"\"Routine adds symmetric edges to Kripke frame\n",
    "    \"\"\"\n",
    "    result = {}\n",
    "    for agent, agents_relations in relations.items():\n",
    "        result_agents = agents_relations.copy()\n",
    "        for r in agents_relations:\n",
    "            x, y = r[1], r[0]\n",
    "            result_agents.add((x, y))\n",
    "        result[agent] = result_agents\n",
    "    return result\n",
    "def kripke_structure_solve_a(self, agent, formula):\n",
    "    \"\"\" This function was taken from the code of The Ship at \n",
    "    https://github.com/JohnRoyale/MAS2018/blob/master/mlsolver/kripke.py#L36\n",
    "    it is necessary to be able to execute models for only one agent\n",
    "    \"\"\"\n",
    "    nodes_to_remove = self.nodes_not_follow_formula(formula)\n",
    "\n",
    "    if len(nodes_to_remove) == 0:\n",
    "        return self\n",
    "\n",
    "    relations_to_remove = []\n",
    "\n",
    "    for relation in self.relations[str(agent)]:\n",
    "        for node in nodes_to_remove: \n",
    "            if node in relation:\n",
    "                relations_to_remove.append(relation)\n",
    "                break\n",
    "\n",
    "    self.relations[str(agent)] = self.relations[str(agent)].difference(set(relations_to_remove))\n",
    "\n",
    "    return self"
   ]
  },
  {
   "cell_type": "code",
   "execution_count": 226,
   "metadata": {},
   "outputs": [
    {
     "name": "stdout",
     "output_type": "stream",
     "text": [
      "(W = {(Imp0,{'IsImp:0': True, 'IsImp:1': False, 'IsImp:2': False, 'IsImp:3': False})(Imp1,{'IsImp:0': False, 'IsImp:1': True, 'IsImp:2': False, 'IsImp:3': False})(Imp2,{'IsImp:0': False, 'IsImp:1': False, 'IsImp:2': True, 'IsImp:3': False})(Imp3,{'IsImp:0': False, 'IsImp:1': False, 'IsImp:2': False, 'IsImp:3': True})}, R = {'0': {('Imp2', 'Imp1'), ('Imp3', 'Imp3'), ('Imp1', 'Imp1'), ('Imp3', 'Imp2'), ('Imp3', 'Imp1'), ('Imp2', 'Imp3'), ('Imp2', 'Imp2'), ('Imp1', 'Imp3'), ('Imp1', 'Imp2')}, '1': {('Imp0', 'Imp3'), ('Imp0', 'Imp0'), ('Imp0', 'Imp2'), ('Imp3', 'Imp0'), ('Imp3', 'Imp3'), ('Imp3', 'Imp2'), ('Imp2', 'Imp2'), ('Imp2', 'Imp3'), ('Imp2', 'Imp0')}, '2': {('Imp0', 'Imp3'), ('Imp0', 'Imp0'), ('Imp3', 'Imp3'), ('Imp3', 'Imp0'), ('Imp1', 'Imp1'), ('Imp0', 'Imp1'), ('Imp3', 'Imp1'), ('Imp1', 'Imp3'), ('Imp1', 'Imp0')}, '3': {('Imp1', 'Imp2'), ('Imp2', 'Imp1'), ('Imp0', 'Imp0'), ('Imp0', 'Imp2'), ('Imp1', 'Imp1'), ('Imp0', 'Imp1'), ('Imp2', 'Imp2'), ('Imp2', 'Imp0'), ('Imp1', 'Imp0')}})\n"
     ]
    },
    {
     "data": {
      "image/svg+xml": [
       "<?xml version=\"1.0\" encoding=\"UTF-8\" standalone=\"no\"?>\n",
       "<!DOCTYPE svg PUBLIC \"-//W3C//DTD SVG 1.1//EN\"\n",
       " \"http://www.w3.org/Graphics/SVG/1.1/DTD/svg11.dtd\">\n",
       "<!-- Generated by graphviz version 2.43.0 (0)\n",
       " -->\n",
       "<!-- Title: %3 Pages: 1 -->\n",
       "<svg width=\"69pt\" height=\"44pt\"\n",
       " viewBox=\"0.00 0.00 69.09 44.00\" xmlns=\"http://www.w3.org/2000/svg\" xmlns:xlink=\"http://www.w3.org/1999/xlink\">\n",
       "<g id=\"graph0\" class=\"graph\" transform=\"scale(1 1) rotate(0) translate(4 40)\">\n",
       "<title>%3</title>\n",
       "<polygon fill=\"white\" stroke=\"transparent\" points=\"-4,4 -4,-40 65.09,-40 65.09,4 -4,4\"/>\n",
       "<!-- A -->\n",
       "<g id=\"node1\" class=\"node\">\n",
       "<title>A</title>\n",
       "<ellipse fill=\"none\" stroke=\"black\" cx=\"30.55\" cy=\"-18\" rx=\"30.59\" ry=\"18\"/>\n",
       "<text text-anchor=\"middle\" x=\"30.55\" y=\"-14.3\" font-family=\"Times,serif\" font-size=\"14.00\">Test</text>\n",
       "</g>\n",
       "</g>\n",
       "</svg>\n"
      ],
      "text/plain": [
       "<graphviz.dot.Digraph at 0x7f67c12dafa0>"
      ]
     },
     "execution_count": 226,
     "metadata": {},
     "output_type": "execute_result"
    }
   ],
   "source": [
    "model = AmongUs(4, 2)\n",
    "print(model.kripke_structure)\n",
    "model.plot()"
   ]
  },
  {
   "cell_type": "code",
   "execution_count": 227,
   "metadata": {},
   "outputs": [
    {
     "name": "stdout",
     "output_type": "stream",
     "text": [
      "0 does not suspect 0 of being the impostor\n",
      "0 suspects 1 of being the impostor\n",
      "0 suspects 2 of being the impostor\n",
      "0 suspects 3 of being the impostor\n",
      "1 suspects 0 of being the impostor\n",
      "1 does not suspect 1 of being the impostor\n",
      "1 suspects 2 of being the impostor\n",
      "1 suspects 3 of being the impostor\n",
      "2 does not suspect 0 of being the impostor\n",
      "2 does not suspect 1 of being the impostor\n",
      "2 does not suspect 2 of being the impostor\n",
      "2 does not suspect 3 of being the impostor\n",
      "3 suspects 0 of being the impostor\n",
      "3 suspects 1 of being the impostor\n",
      "3 suspects 2 of being the impostor\n",
      "3 does not suspect 3 of being the impostor\n",
      "\n",
      "\n",
      "UPDATE: 1 catches 2\n",
      "0 does not suspect 0 of being the impostor\n",
      "0 suspects 1 of being the impostor\n",
      "0 suspects 2 of being the impostor\n",
      "0 suspects 3 of being the impostor\n",
      "1 does not suspect 0 of being the impostor\n",
      "1 does not suspect 1 of being the impostor\n",
      "1 does not suspect 2 of being the impostor\n",
      "1 does not suspect 3 of being the impostor\n",
      "2 does not suspect 0 of being the impostor\n",
      "2 does not suspect 1 of being the impostor\n",
      "2 does not suspect 2 of being the impostor\n",
      "2 does not suspect 3 of being the impostor\n",
      "3 suspects 0 of being the impostor\n",
      "3 suspects 1 of being the impostor\n",
      "3 suspects 2 of being the impostor\n",
      "3 does not suspect 3 of being the impostor\n",
      "\n",
      "\n",
      "UPDATE: 3 sees visual task of 0\n",
      "0 does not suspect 0 of being the impostor\n",
      "0 suspects 1 of being the impostor\n",
      "0 suspects 2 of being the impostor\n",
      "0 suspects 3 of being the impostor\n",
      "1 does not suspect 0 of being the impostor\n",
      "1 does not suspect 1 of being the impostor\n",
      "1 does not suspect 2 of being the impostor\n",
      "1 does not suspect 3 of being the impostor\n",
      "2 does not suspect 0 of being the impostor\n",
      "2 does not suspect 1 of being the impostor\n",
      "2 does not suspect 2 of being the impostor\n",
      "2 does not suspect 3 of being the impostor\n",
      "3 does not suspect 0 of being the impostor\n",
      "3 does not suspect 1 of being the impostor\n",
      "3 does not suspect 2 of being the impostor\n",
      "3 does not suspect 3 of being the impostor\n",
      "\n",
      "\n",
      "UPDATE: 3 sees visual task of 1\n",
      "0 does not suspect 0 of being the impostor\n",
      "0 suspects 1 of being the impostor\n",
      "0 suspects 2 of being the impostor\n",
      "0 suspects 3 of being the impostor\n",
      "1 does not suspect 0 of being the impostor\n",
      "1 does not suspect 1 of being the impostor\n",
      "1 does not suspect 2 of being the impostor\n",
      "1 does not suspect 3 of being the impostor\n",
      "2 does not suspect 0 of being the impostor\n",
      "2 does not suspect 1 of being the impostor\n",
      "2 does not suspect 2 of being the impostor\n",
      "2 does not suspect 3 of being the impostor\n",
      "3 does not suspect 0 of being the impostor\n",
      "3 does not suspect 1 of being the impostor\n",
      "3 does not suspect 2 of being the impostor\n",
      "3 does not suspect 3 of being the impostor\n"
     ]
    }
   ],
   "source": [
    "model = AmongUs(4, 2)\n",
    "for i in range(4):\n",
    "    for j in range(4):\n",
    "        if model.suspects(i, j):\n",
    "            print(\"{} suspects {} of being the impostor\".format(i, j))\n",
    "        else:\n",
    "            print(\"{} does not suspect {} of being the impostor\".format(i, j))\n",
    "print(\"\\n\\nUPDATE: 1 catches 2\")\n",
    "\n",
    "model.update_known_impostor(1, 2)\n",
    "for i in range(4):\n",
    "    for j in range(4):\n",
    "        if model.suspects(i, j):\n",
    "            print(\"{} suspects {} of being the impostor\".format(i, j))\n",
    "        else:\n",
    "            print(\"{} does not suspect {} of being the impostor\".format(i, j))\n",
    "print(\"\\n\\nUPDATE: 3 sees visual task of 0\")\n",
    "model.update_known_crewmate(3, 0)\n",
    "for i in range(4):\n",
    "    for j in range(4):\n",
    "        if model.suspects(i, j):\n",
    "            print(\"{} suspects {} of being the impostor\".format(i, j))\n",
    "        else:\n",
    "            print(\"{} does not suspect {} of being the impostor\".format(i, j))\n",
    "print(\"\\n\\nUPDATE: 3 sees visual task of 1\")\n",
    "model.update_known_crewmate(3, 1)\n",
    "for i in range(4):\n",
    "    for j in range(4):\n",
    "        if model.suspects(i, j):\n",
    "            print(\"{} suspects {} of being the impostor\".format(i, j))\n",
    "        else:\n",
    "            print(\"{} does not suspect {} of being the impostor\".format(i, j))"
   ]
  },
  {
   "cell_type": "code",
   "execution_count": 218,
   "metadata": {},
   "outputs": [
    {
     "name": "stdout",
     "output_type": "stream",
     "text": [
      "False\n",
      "True\n"
     ]
    }
   ],
   "source": [
    "\n",
    "print(sentence.semantic(model.kripke_structure, \"Imp1\"))\n",
    "print(sentence.semantic(model.kripke_structure, \"Imp2\"))\n"
   ]
  },
  {
   "cell_type": "code",
   "execution_count": 168,
   "metadata": {},
   "outputs": [
    {
     "name": "stdout",
     "output_type": "stream",
     "text": [
      "(W = {(Imp2,{'IsImp:0': False, 'IsImp:1': False, 'IsImp:2': True, 'IsImp:3': False})}, R = {0: {('Imp2', 'Imp2')}, 1: {('Imp2', 'Imp2')}, 2: {('Imp2', 'Imp2')}, 3: {('Imp2', 'Imp2')}})\n"
     ]
    }
   ],
   "source": [
    "print(model.kripke_structure)"
   ]
  },
  {
   "cell_type": "code",
   "execution_count": 140,
   "metadata": {},
   "outputs": [
    {
     "name": "stdout",
     "output_type": "stream",
     "text": [
      "(W = {(Imp0,{'IsImp:0': True, 'IsImp:1': False, 'IsImp:2': False})(Imp1,{'IsImp:0': False, 'IsImp:1': True, 'IsImp:2': False})(Imp2,{'IsImp:0': False, 'IsImp:1': False, 'IsImp:2': True})}, R = {0: {('Imp2', 'Imp2'), ('Imp1', 'Imp1'), ('Imp2', 'Imp1'), ('Imp1', 'Imp2')}, 1: {('Imp2', 'Imp0'), ('Imp0', 'Imp0'), ('Imp0', 'Imp2'), ('Imp2', 'Imp2')}, 2: {('Imp2', 'Imp2')}})\n"
     ]
    }
   ],
   "source": [
    "print(model.kripke_structure)"
   ]
  },
  {
   "cell_type": "code",
   "execution_count": 34,
   "metadata": {},
   "outputs": [],
   "source": [
    "formula = Box_a(1, Not(Atom('IsImp:0')))\n",
    "ks2 = model.kripke_structure.solve(formula)"
   ]
  },
  {
   "cell_type": "code",
   "execution_count": 27,
   "metadata": {},
   "outputs": [
    {
     "name": "stdout",
     "output_type": "stream",
     "text": [
      "(W = {(Imp1,{'IsImp:0': False, 'IsImp:1': True, 'IsImp:2': False, 'IsImp:3': False, 'IsImp:4': False})(Imp2,{'IsImp:0': False, 'IsImp:1': False, 'IsImp:2': True, 'IsImp:3': False, 'IsImp:4': False})(Imp3,{'IsImp:0': False, 'IsImp:1': False, 'IsImp:2': False, 'IsImp:3': True, 'IsImp:4': False})(Imp4,{'IsImp:0': False, 'IsImp:1': False, 'IsImp:2': False, 'IsImp:3': False, 'IsImp:4': True})}, R = {0: {('Imp4', 'Imp3'), ('Imp4', 'Imp2'), ('Imp2', 'Imp4'), ('Imp3', 'Imp3'), ('Imp2', 'Imp1'), ('Imp3', 'Imp4'), ('Imp1', 'Imp4'), ('Imp1', 'Imp1'), ('Imp3', 'Imp2'), ('Imp4', 'Imp4'), ('Imp4', 'Imp1'), ('Imp2', 'Imp3'), ('Imp3', 'Imp1'), ('Imp2', 'Imp2'), ('Imp1', 'Imp3'), ('Imp1', 'Imp2')}, 1: {('Imp4', 'Imp3'), ('Imp4', 'Imp2'), ('Imp2', 'Imp4'), ('Imp3', 'Imp3'), ('Imp3', 'Imp4'), ('Imp3', 'Imp2'), ('Imp4', 'Imp4'), ('Imp2', 'Imp2'), ('Imp2', 'Imp3')}, 2: {('Imp4', 'Imp3'), ('Imp3', 'Imp3'), ('Imp3', 'Imp4'), ('Imp1', 'Imp4'), ('Imp1', 'Imp1'), ('Imp4', 'Imp4'), ('Imp4', 'Imp1'), ('Imp3', 'Imp1'), ('Imp1', 'Imp3')}, 3: {('Imp1', 'Imp2'), ('Imp4', 'Imp2'), ('Imp2', 'Imp4'), ('Imp2', 'Imp1'), ('Imp1', 'Imp4'), ('Imp1', 'Imp1'), ('Imp4', 'Imp4'), ('Imp4', 'Imp1'), ('Imp2', 'Imp2')}, 4: {('Imp4', 'Imp4')}})\n"
     ]
    }
   ],
   "source": [
    "print(ks2)"
   ]
  },
  {
   "cell_type": "code",
   "execution_count": 178,
   "metadata": {},
   "outputs": [
    {
     "data": {
      "text/plain": [
       "{('Imp0', 'Imp0'),\n",
       " ('Imp0', 'Imp1'),\n",
       " ('Imp0', 'Imp3'),\n",
       " ('Imp1', 'Imp0'),\n",
       " ('Imp1', 'Imp1'),\n",
       " ('Imp1', 'Imp3'),\n",
       " ('Imp3', 'Imp0'),\n",
       " ('Imp3', 'Imp1'),\n",
       " ('Imp3', 'Imp3')}"
      ]
     },
     "execution_count": 178,
     "metadata": {},
     "output_type": "execute_result"
    }
   ],
   "source": [
    "i = 2\n",
    "num_agents = 4\n",
    "set((\"Imp{}\".format(x),\"Imp{}\".format(y)) for x in range(num_agents) for y in range(num_agents) if ((i != x) and (i != y)))"
   ]
  },
  {
   "cell_type": "code",
   "execution_count": null,
   "metadata": {},
   "outputs": [],
   "source": []
  }
 ],
 "metadata": {
  "kernelspec": {
   "display_name": "Python 3",
   "language": "python",
   "name": "python3"
  },
  "language_info": {
   "codemirror_mode": {
    "name": "ipython",
    "version": 3
   },
   "file_extension": ".py",
   "mimetype": "text/x-python",
   "name": "python",
   "nbconvert_exporter": "python",
   "pygments_lexer": "ipython3",
   "version": "3.8.5"
  }
 },
 "nbformat": 4,
 "nbformat_minor": 2
}
